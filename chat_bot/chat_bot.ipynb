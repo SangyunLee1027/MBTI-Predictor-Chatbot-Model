{
 "cells": [
  {
   "cell_type": "code",
   "execution_count": 1,
   "metadata": {},
   "outputs": [
    {
     "name": "stderr",
     "output_type": "stream",
     "text": [
      "c:\\Users\\1027d\\AppData\\Local\\Programs\\Python\\Python311\\Lib\\site-packages\\tqdm\\auto.py:21: TqdmWarning: IProgress not found. Please update jupyter and ipywidgets. See https://ipywidgets.readthedocs.io/en/stable/user_install.html\n",
      "  from .autonotebook import tqdm as notebook_tqdm\n"
     ]
    }
   ],
   "source": [
    "import torch\n",
    "import pandas as pd\n",
    "from transformers import pipeline, Conversation\n"
   ]
  },
  {
   "cell_type": "code",
   "execution_count": 2,
   "metadata": {},
   "outputs": [],
   "source": [
    "chat_model = pipeline(task = \"conversational\", model = \"facebook/blenderbot-400M-distill\")"
   ]
  },
  {
   "cell_type": "code",
   "execution_count": 13,
   "metadata": {},
   "outputs": [],
   "source": [
    "user_inputs = []\n",
    "template = [{\"role\": \"system\", \"content\" : \"You must ask about something related on user's personality.\"},\n",
    "            ]\n",
    "\n",
    "\n",
    "while 1:\n",
    "    user_input = input()\n",
    "    if user_input.lower() == \"done\":\n",
    "        break\n",
    "    print(\"You: \", user_input, flush=True)\n",
    "    user_inputs.append(user_input)\n",
    "    template.append({\"role\":\"user\", \"content\": f\"{user_input}\"})\n",
    "    if len(template) > 5:\n",
    "        template.pop(1)\n",
    "        template.pop(1)\n",
    "        template.pop(1)\n",
    "    try:\n",
    "        bot_response = chat_model(template, max_length = 128)[-1][\"content\"]\n",
    "        print(\"Bot: \", bot_response)\n",
    "        template.append({\"role\": \"assistant\", \"content\": f\"{bot_response}\"})\n",
    "    except:\n",
    "        template.pop(-1)\n",
    "        print(\"You typed too many words, please make your sentence shorter.\")\n"
   ]
  },
  {
   "cell_type": "code",
   "execution_count": null,
   "metadata": {},
   "outputs": [],
   "source": []
  }
 ],
 "metadata": {
  "kernelspec": {
   "display_name": "Python 3",
   "language": "python",
   "name": "python3"
  },
  "language_info": {
   "codemirror_mode": {
    "name": "ipython",
    "version": 3
   },
   "file_extension": ".py",
   "mimetype": "text/x-python",
   "name": "python",
   "nbconvert_exporter": "python",
   "pygments_lexer": "ipython3",
   "version": "3.11.9"
  }
 },
 "nbformat": 4,
 "nbformat_minor": 2
}
