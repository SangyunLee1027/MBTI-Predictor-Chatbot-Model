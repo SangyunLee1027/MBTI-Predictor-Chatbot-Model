{
 "cells": [
  {
   "cell_type": "code",
   "execution_count": 13,
   "metadata": {},
   "outputs": [],
   "source": [
    "import torch\n",
    "import pandas as pd\n",
    "from transformers import pipeline, Conversation\n"
   ]
  },
  {
   "cell_type": "code",
   "execution_count": 14,
   "metadata": {},
   "outputs": [],
   "source": [
    "chat_model = pipeline(task = \"conversational\", model = \"facebook/blenderbot-400M-distill\")"
   ]
  },
  {
   "cell_type": "code",
   "execution_count": 15,
   "metadata": {},
   "outputs": [],
   "source": [
    "from transformers import AutoModelForSequenceClassification, AutoTokenizer\n",
    "import numpy as np\n",
    "from helper import Transformer_Dataset, preprocess\n"
   ]
  },
  {
   "cell_type": "code",
   "execution_count": 16,
   "metadata": {},
   "outputs": [
    {
     "data": {
      "text/plain": [
       "DistilBertForSequenceClassification(\n",
       "  (distilbert): DistilBertModel(\n",
       "    (embeddings): Embeddings(\n",
       "      (word_embeddings): Embedding(30522, 768, padding_idx=0)\n",
       "      (position_embeddings): Embedding(512, 768)\n",
       "      (LayerNorm): LayerNorm((768,), eps=1e-12, elementwise_affine=True)\n",
       "      (dropout): Dropout(p=0.1, inplace=False)\n",
       "    )\n",
       "    (transformer): Transformer(\n",
       "      (layer): ModuleList(\n",
       "        (0-5): 6 x TransformerBlock(\n",
       "          (attention): MultiHeadSelfAttention(\n",
       "            (dropout): Dropout(p=0.1, inplace=False)\n",
       "            (q_lin): Linear(in_features=768, out_features=768, bias=True)\n",
       "            (k_lin): Linear(in_features=768, out_features=768, bias=True)\n",
       "            (v_lin): Linear(in_features=768, out_features=768, bias=True)\n",
       "            (out_lin): Linear(in_features=768, out_features=768, bias=True)\n",
       "          )\n",
       "          (sa_layer_norm): LayerNorm((768,), eps=1e-12, elementwise_affine=True)\n",
       "          (ffn): FFN(\n",
       "            (dropout): Dropout(p=0.1, inplace=False)\n",
       "            (lin1): Linear(in_features=768, out_features=3072, bias=True)\n",
       "            (lin2): Linear(in_features=3072, out_features=768, bias=True)\n",
       "            (activation): GELUActivation()\n",
       "          )\n",
       "          (output_layer_norm): LayerNorm((768,), eps=1e-12, elementwise_affine=True)\n",
       "        )\n",
       "      )\n",
       "    )\n",
       "  )\n",
       "  (pre_classifier): Linear(in_features=768, out_features=768, bias=True)\n",
       "  (classifier): Linear(in_features=768, out_features=4, bias=True)\n",
       "  (dropout): Dropout(p=0.2, inplace=False)\n",
       ")"
      ]
     },
     "execution_count": 16,
     "metadata": {},
     "output_type": "execute_result"
    }
   ],
   "source": [
    "model_path = \"../Trained_Model/my_fine_tuned_model\"\n",
    "\n",
    "model = AutoModelForSequenceClassification.from_pretrained(model_path)\n",
    "device = torch.device(\"cuda\" if torch.cuda.is_available() else \"cpu\")\n",
    "model.to(device)"
   ]
  },
  {
   "cell_type": "code",
   "execution_count": 17,
   "metadata": {},
   "outputs": [],
   "source": [
    "tokenizer = AutoTokenizer.from_pretrained(model_path)"
   ]
  },
  {
   "cell_type": "code",
   "execution_count": 18,
   "metadata": {},
   "outputs": [],
   "source": [
    "IElabel = {0 : \"I\", 1 : \"E\"}\n",
    "\n",
    "NSlabel = {0 : \"N\", 1 : \"S\"}\n",
    "\n",
    "FTlabel = {0 : \"F\", 1 : \"T\"}\n",
    "\n",
    "JPlabel = {0 : \"J\", 1: \"P\"}\n"
   ]
  },
  {
   "cell_type": "code",
   "execution_count": 34,
   "metadata": {},
   "outputs": [
    {
     "name": "stdout",
     "output_type": "stream",
     "text": [
      "You:  hi\n",
      "Bot:   Hi! How are you doing today? I'm doing well, thank you for asking. \n",
      "You:  what's up\n",
      "Bot:   Not much, just hanging out at home. How about you? What are you up to?\n",
      "You:  not so much\n",
      "Bot:   What do you like to do for fun? I like to play video games and listen to music.\n",
      "You:  okay\n",
      "Bot:   What kind of music do you listen to? I listen to a lot of rock and roll.\n"
     ]
    }
   ],
   "source": [
    "user_inputs = []\n",
    "template = [{\"role\": \"system\", \"content\" : \"You must ask about something related on user's personality.\"},\n",
    "            ]\n",
    "\n",
    "\n",
    "while 1:\n",
    "    user_input = input()\n",
    "    if user_input.lower() == \"done\":\n",
    "        break\n",
    "\n",
    "    print(\"You: \", user_input, flush=True)\n",
    "    if user_input.lower() == \"what is my mbti?\":\n",
    "        tokened_input = tokenizer(\". \".join(user_inputs), max_length = 512, padding='max_length')\n",
    "        tokened_input = {key: torch.tensor(value).to(device) for key, value in tokened_input.items()}\n",
    "        outputs = model(**tokened_input)\n",
    "        labeled = torch.round(torch.sigmoid(outputs[\"logits\"]))\n",
    "        output_label = [IElabel[int(labeled[0][0])], NSlabel[int(labeled[0][1])], FTlabel[int(labeled[0][2])], JPlabel[int(labeled[0][3])]]\n",
    "        print(\"Bot: \", \"\".join(output_label))\n",
    "    \n",
    "    else:\n",
    "        user_inputs.append(user_input)\n",
    "    \n",
    "    template.append({\"role\":\"user\", \"content\": f\"{user_input}\"})\n",
    "\n",
    "    if len(template) > 5: \n",
    "        template.pop(1)\n",
    "        template.pop(1)\n",
    "        template.pop(1)\n",
    "    try:\n",
    "        bot_response = chat_model(template, max_length = 128)[-1][\"content\"]\n",
    "        \n",
    "        print(\"Bot: \", bot_response, flush = True)\n",
    "        template.append({\"role\": \"assistant\", \"content\": f\"{bot_response}\"})\n",
    "    except:\n",
    "        template.pop(-1)\n",
    "        print(\"You typed too many words, please make your sentence shorter.\")\n"
   ]
  },
  {
   "cell_type": "code",
   "execution_count": null,
   "metadata": {},
   "outputs": [],
   "source": []
  }
 ],
 "metadata": {
  "kernelspec": {
   "display_name": "Python 3",
   "language": "python",
   "name": "python3"
  },
  "language_info": {
   "codemirror_mode": {
    "name": "ipython",
    "version": 3
   },
   "file_extension": ".py",
   "mimetype": "text/x-python",
   "name": "python",
   "nbconvert_exporter": "python",
   "pygments_lexer": "ipython3",
   "version": "3.11.9"
  }
 },
 "nbformat": 4,
 "nbformat_minor": 2
}
